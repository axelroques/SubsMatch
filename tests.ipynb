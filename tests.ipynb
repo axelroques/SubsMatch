{
 "cells": [
  {
   "cell_type": "code",
   "execution_count": 1,
   "id": "6df53c57",
   "metadata": {},
   "outputs": [],
   "source": [
    "%load_ext autoreload\n",
    "\n",
    "from subsmatch import SubsMatch"
   ]
  },
  {
   "cell_type": "markdown",
   "id": "27603252",
   "metadata": {},
   "source": [
    "## Data"
   ]
  },
  {
   "cell_type": "code",
   "execution_count": 13,
   "id": "369a45cb",
   "metadata": {},
   "outputs": [],
   "source": [
    "sequences = [\n",
    "    ['a', 'b', 'a', 'b', 'b', 'b', 'b', 'c'], \n",
    "    ['a', 'b', 'b', 'b', 'b', 'c']\n",
    "]"
   ]
  },
  {
   "cell_type": "markdown",
   "id": "5d931345",
   "metadata": {},
   "source": [
    "## SubsMatch"
   ]
  },
  {
   "cell_type": "code",
   "execution_count": 14,
   "id": "1d8cf5f5",
   "metadata": {},
   "outputs": [],
   "source": [
    "%autoreload\n",
    "\n",
    "sm = SubsMatch(\n",
    "    sequences,\n",
    "    a=None, # <-- SAX discretization not implemented yet!\n",
    "    w=2\n",
    ")"
   ]
  },
  {
   "cell_type": "code",
   "execution_count": 20,
   "id": "71d3d284",
   "metadata": {},
   "outputs": [
    {
     "name": "stdout",
     "output_type": "stream",
     "text": [
      "Input sequences = [['a', 'b', 'a', 'b', 'b', 'b', 'b', 'c'], ['a', 'b', 'b', 'b', 'b', 'c']]\n",
      "SAX sequences = [['a', 'b', 'a', 'b', 'b', 'b', 'b', 'c'], ['a', 'b', 'b', 'b', 'b', 'c']] \n",
      "\n",
      "self.sequence = ['a' 'b' 'a' 'b' 'b' 'b' 'b' 'c']\n",
      "\tsubseq = ['a' 'b']\n",
      "\tsubseq = ['b' 'a']\n",
      "\tsubseq = ['a' 'b']\n",
      "\tsubseq = ['b' 'b']\n",
      "\tsubseq = ['b' 'b']\n",
      "\tsubseq = ['b' 'b']\n",
      "\tsubseq = ['b' 'c']\n",
      "\n",
      "self.sequence = ['a' 'b' 'b' 'b' 'b' 'c']\n",
      "\tsubseq = ['a' 'b']\n",
      "\tsubseq = ['b' 'b']\n",
      "\tsubseq = ['b' 'b']\n",
      "\tsubseq = ['b' 'b']\n",
      "\tsubseq = ['b' 'c']\n",
      "\n",
      "Histogram 1 = Counter({'bb': 0.42857142857142855, 'ab': 0.2857142857142857, 'ba': 0.14285714285714285, 'bc': 0.14285714285714285})\n",
      "\tTotal = 1.0\n",
      "Histogram 2 = Counter({'bb': 0.6000000000000001, 'ab': 0.2, 'bc': 0.2})\n",
      "\tTotal = 1.0 \n",
      "\n",
      "Distance = 0.22857142857142862 \n",
      "\n",
      "Similarity = 0.7714285714285714 \n",
      "\n"
     ]
    }
   ],
   "source": [
    "%autoreload\n",
    "\n",
    "sm.process()"
   ]
  },
  {
   "cell_type": "code",
   "execution_count": null,
   "id": "36acc1f4",
   "metadata": {},
   "outputs": [],
   "source": []
  }
 ],
 "metadata": {
  "kernelspec": {
   "display_name": "Python 3",
   "language": "python",
   "name": "python3"
  },
  "language_info": {
   "codemirror_mode": {
    "name": "ipython",
    "version": 3
   },
   "file_extension": ".py",
   "mimetype": "text/x-python",
   "name": "python",
   "nbconvert_exporter": "python",
   "pygments_lexer": "ipython3",
   "version": "3.8.3"
  }
 },
 "nbformat": 4,
 "nbformat_minor": 5
}
